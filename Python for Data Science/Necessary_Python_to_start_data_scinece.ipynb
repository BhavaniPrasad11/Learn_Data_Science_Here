{
  "nbformat": 4,
  "nbformat_minor": 0,
  "metadata": {
    "colab": {
      "provenance": []
    },
    "kernelspec": {
      "name": "python3",
      "display_name": "Python 3"
    },
    "language_info": {
      "name": "python"
    }
  },
  "cells": [
    {
      "cell_type": "code",
      "execution_count": null,
      "metadata": {
        "id": "1x8JxLIh18L5",
        "colab": {
          "base_uri": "https://localhost:8080/"
        },
        "outputId": "fa07f39b-14cf-4fc8-fa3f-ba3691ebc76b"
      },
      "outputs": [
        {
          "output_type": "stream",
          "name": "stdout",
          "text": [
            "15\n"
          ]
        }
      ],
      "source": [
        "#Functool Module\n",
        "#Reduce() function\n",
        "from functools import reduce\n",
        "my_list = [1, 2, 3, 4, 5]\n",
        "r = reduce(lambda x, y: x + y, my_list)\n",
        "print(r)"
      ]
    },
    {
      "cell_type": "code",
      "source": [
        "rr = reduce(lambda x, y: x if x < y else y, my_list)\n",
        "print(rr)"
      ],
      "metadata": {
        "id": "o-OQpRhv217U",
        "colab": {
          "base_uri": "https://localhost:8080/"
        },
        "outputId": "86c5751b-9e81-4bb7-b90e-0ada7c26cfe9"
      },
      "execution_count": null,
      "outputs": [
        {
          "output_type": "stream",
          "name": "stdout",
          "text": [
            "1\n"
          ]
        }
      ]
    },
    {
      "cell_type": "code",
      "source": [
        "from collections import Counter\n",
        "print(Counter(['b', 'b', 'a', 'a', 'c', 'c', 'd']))\n",
        "print(\"==========================================\")\n",
        "print(Counter({'A': 3, 'B': 4, 'C': 5}))\n",
        "print('=========================================')\n",
        "coun = Counter()\n",
        "print(coun)\n",
        "print('====================================')\n",
        "coun.update([1, 2, 4])\n",
        "print(coun)\n",
        "print('======================================')\n",
        "c1 = Counter(A = 4, B = 3, C = 10)\n",
        "c2 = Counter(A = 10, B = 3, C = 4)\n",
        "c1.subtract(c2)\n",
        "print(c1)\n",
        "print('=======================================')\n",
        "counn = Counter(a = 1, b = 2, c = 3)\n",
        "print(list(coun.elements()))"
      ],
      "metadata": {
        "colab": {
          "base_uri": "https://localhost:8080/"
        },
        "id": "GBE6ca6v5AkM",
        "outputId": "c3ef2dcb-7794-4882-ce81-8fef8fabb773"
      },
      "execution_count": null,
      "outputs": [
        {
          "output_type": "stream",
          "name": "stdout",
          "text": [
            "Counter({'b': 2, 'a': 2, 'c': 2, 'd': 1})\n",
            "==========================================\n",
            "Counter({'C': 5, 'B': 4, 'A': 3})\n",
            "=========================================\n",
            "Counter()\n",
            "====================================\n",
            "Counter({1: 1, 2: 1, 4: 1})\n",
            "======================================\n",
            "Counter({'C': 6, 'B': 0, 'A': -6})\n",
            "=======================================\n",
            "[1, 2, 4]\n"
          ]
        }
      ]
    },
    {
      "cell_type": "code",
      "source": [
        "print('{1} and {0} are my parents'.format('Ramu', 'Shobha Rani'))"
      ],
      "metadata": {
        "id": "F48mrS3h6rhA",
        "colab": {
          "base_uri": "https://localhost:8080/"
        },
        "outputId": "466f6f58-71bf-4709-bf5a-6735f461dc2b"
      },
      "execution_count": null,
      "outputs": [
        {
          "output_type": "stream",
          "name": "stdout",
          "text": [
            "Shobha Rani and Ramu are my parents\n"
          ]
        }
      ]
    },
    {
      "cell_type": "code",
      "source": [
        "listt = ['b', 'h', 'a', 'v', 'a', 'n', 'i']\n",
        "lis = ''.join(listt)\n",
        "print(lis)"
      ],
      "metadata": {
        "colab": {
          "base_uri": "https://localhost:8080/"
        },
        "id": "xXHXFBIi_-mw",
        "outputId": "8a001667-cf2e-4a80-f1ac-bf9cdecfcd48"
      },
      "execution_count": null,
      "outputs": [
        {
          "output_type": "stream",
          "name": "stdout",
          "text": [
            "bhavani\n"
          ]
        }
      ]
    },
    {
      "cell_type": "code",
      "source": [
        "s = 'I am Bhavani Prasad'\n",
        "ss = s.split('a', 2)\n",
        "ss"
      ],
      "metadata": {
        "colab": {
          "base_uri": "https://localhost:8080/"
        },
        "id": "uvI18wePDBYL",
        "outputId": "c58db748-180e-4af7-f93f-b4140d9819e4"
      },
      "execution_count": null,
      "outputs": [
        {
          "output_type": "execute_result",
          "data": {
            "text/plain": [
              "['I ', 'm Bh', 'vani Prasad']"
            ]
          },
          "metadata": {},
          "execution_count": 24
        }
      ]
    },
    {
      "cell_type": "code",
      "source": [
        "d = '!!!I am! !Bhavani Prasad!!!'\n",
        "dd = d.strip('!')\n",
        "dd"
      ],
      "metadata": {
        "colab": {
          "base_uri": "https://localhost:8080/",
          "height": 37
        },
        "id": "HygAzaCjDgpp",
        "outputId": "1b26a25d-3da7-4c61-ca07-0fdc2a4b3543"
      },
      "execution_count": null,
      "outputs": [
        {
          "output_type": "execute_result",
          "data": {
            "text/plain": [
              "'I am! !Bhavani Prasad'"
            ],
            "application/vnd.google.colaboratory.intrinsic+json": {
              "type": "string"
            }
          },
          "metadata": {},
          "execution_count": 25
        }
      ]
    },
    {
      "cell_type": "code",
      "source": [
        "def find_duplicates(String):\n",
        "  seen = set()\n",
        "  duplicates = set()\n",
        "  for char in String:\n",
        "    if char in seen:\n",
        "      duplicates.add(char)\n",
        "    else:\n",
        "      seen.add(char)\n",
        "  duplicates.remove(\" \")\n",
        "  return list(duplicates)\n",
        "print(find_duplicates('Bhavani Prasad V'))"
      ],
      "metadata": {
        "colab": {
          "base_uri": "https://localhost:8080/"
        },
        "id": "dm4cjuc2D4tG",
        "outputId": "a4b49be1-91a9-41ea-97e2-43ea441ed0f8"
      },
      "execution_count": null,
      "outputs": [
        {
          "output_type": "stream",
          "name": "stdout",
          "text": [
            "['a']\n"
          ]
        }
      ]
    },
    {
      "cell_type": "code",
      "source": [
        "person = {1: 'Bhavani', 2: 'Prasad', 3:'V'}\n",
        "for key, values in person.items():\n",
        "  print(key, values)\n",
        "print(person.items())"
      ],
      "metadata": {
        "colab": {
          "base_uri": "https://localhost:8080/"
        },
        "id": "ITLw86qQGRSg",
        "outputId": "b7e28fb5-ee57-4b95-ab12-e67e0175ab86"
      },
      "execution_count": null,
      "outputs": [
        {
          "output_type": "stream",
          "name": "stdout",
          "text": [
            "1 Bhavani\n",
            "2 Prasad\n",
            "3 V\n",
            "dict_items([(1, 'Bhavani'), (2, 'Prasad'), (3, 'V')])\n"
          ]
        }
      ]
    },
    {
      "cell_type": "code",
      "source": [
        "#Dictionary Comprehension\n",
        "filtered_person = {key: value for key, value in person.items() if 'a' in value}\n",
        "print(list(filtered_person.values()))"
      ],
      "metadata": {
        "colab": {
          "base_uri": "https://localhost:8080/"
        },
        "id": "7EpQbfAyHxJF",
        "outputId": "48b73a88-63c7-4f28-ac4e-0ad680e7e77c"
      },
      "execution_count": null,
      "outputs": [
        {
          "output_type": "stream",
          "name": "stdout",
          "text": [
            "['Bhavani', 'Prasad']\n"
          ]
        }
      ]
    },
    {
      "cell_type": "code",
      "source": [
        "def find_dup(String):\n",
        "  x = []\n",
        "  for i in String:\n",
        "    if i not in x and String.count(i) > 1:\n",
        "      x.append(i)\n",
        "  r = ''.join(x)\n",
        "  return r\n",
        "print(find_dup('Bhavani Prasad V'))"
      ],
      "metadata": {
        "colab": {
          "base_uri": "https://localhost:8080/"
        },
        "id": "Px0ErIU_LKuW",
        "outputId": "bca79c41-d3e3-44c4-921f-51162065a2e0"
      },
      "execution_count": null,
      "outputs": [
        {
          "output_type": "stream",
          "name": "stdout",
          "text": [
            "a \n"
          ]
        }
      ]
    },
    {
      "cell_type": "code",
      "source": [
        "def find_vowels_count(String):\n",
        "  vowels = 'aeiouAEIOU'\n",
        "  vowels_list = filter(lambda x: x in vowels, String)\n",
        "  count = Counter(vowels_list)\n",
        "  return count\n",
        "print(find_vowels_count('Bhavani Prasad V'))"
      ],
      "metadata": {
        "colab": {
          "base_uri": "https://localhost:8080/"
        },
        "id": "rUnjVcMyX9CD",
        "outputId": "ff4eae12-52f7-47c8-a772-01c7c0edb2b4"
      },
      "execution_count": null,
      "outputs": [
        {
          "output_type": "stream",
          "name": "stdout",
          "text": [
            "Counter({'a': 4, 'i': 1})\n"
          ]
        }
      ]
    },
    {
      "cell_type": "code",
      "source": [
        "s = 'Bhavani Prasad V'\n",
        "ss = s.split()\n",
        "s1 = 'cccccccc'\n",
        "x = list(filter(lambda x: (s1 in ss), s))\n",
        "print(['yes' if x else 'no'])"
      ],
      "metadata": {
        "colab": {
          "base_uri": "https://localhost:8080/"
        },
        "id": "SWE4XNv_aaO-",
        "outputId": "2e9f7adb-a068-497b-9dd1-c01d09bcbe24"
      },
      "execution_count": null,
      "outputs": [
        {
          "output_type": "stream",
          "name": "stdout",
          "text": [
            "['no']\n"
          ]
        }
      ]
    },
    {
      "cell_type": "code",
      "source": [
        "Numbers = [8, 4, 9, 5, 1, 10]\n",
        "S_Numbers = sorted(Numbers)\n",
        "print(Numbers)\n",
        "S_Numbers"
      ],
      "metadata": {
        "colab": {
          "base_uri": "https://localhost:8080/"
        },
        "id": "ALoUPOmnouFv",
        "outputId": "7e8e97a8-954f-4dcc-ec61-98a19da0b70e"
      },
      "execution_count": null,
      "outputs": [
        {
          "output_type": "stream",
          "name": "stdout",
          "text": [
            "[8, 4, 9, 5, 1, 10]\n"
          ]
        },
        {
          "output_type": "execute_result",
          "data": {
            "text/plain": [
              "[1, 4, 5, 8, 9, 10]"
            ]
          },
          "metadata": {},
          "execution_count": 51
        }
      ]
    },
    {
      "cell_type": "code",
      "source": [
        "Numbers.sort(reverse = True)\n",
        "Numbers"
      ],
      "metadata": {
        "colab": {
          "base_uri": "https://localhost:8080/"
        },
        "id": "FA7euYX3wR2D",
        "outputId": "dc8a3405-30c9-48b2-abd4-eea1c0b52696"
      },
      "execution_count": null,
      "outputs": [
        {
          "output_type": "execute_result",
          "data": {
            "text/plain": [
              "[10, 9, 8, 5, 4, 1]"
            ]
          },
          "metadata": {},
          "execution_count": 54
        }
      ]
    },
    {
      "cell_type": "code",
      "source": [
        "def check(s1, s2):\n",
        "  if (sorted(s1) == sorted(s2)):\n",
        "    print('Yes, they are anagrams')\n",
        "  else:\n",
        "    print('fook it')\n",
        "check('mahi', 'hima')"
      ],
      "metadata": {
        "colab": {
          "base_uri": "https://localhost:8080/"
        },
        "id": "tRUyZ7n5wt5a",
        "outputId": "b5af9832-3374-4f42-db3c-9f530a5fbdc2"
      },
      "execution_count": null,
      "outputs": [
        {
          "output_type": "stream",
          "name": "stdout",
          "text": [
            "Yes, they are anagrams\n"
          ]
        }
      ]
    },
    {
      "cell_type": "code",
      "source": [
        "filter_nums = lambda s: ''.join([ch for ch in s if not ch.isdigit()])\n",
        "print('filter_nums():', filter_nums('Bhavani111'))"
      ],
      "metadata": {
        "colab": {
          "base_uri": "https://localhost:8080/"
        },
        "id": "Cky48-ysxnD8",
        "outputId": "8305b3eb-4366-4e7e-b6b8-389166c7add7"
      },
      "execution_count": null,
      "outputs": [
        {
          "output_type": "stream",
          "name": "stdout",
          "text": [
            "filter_nums(): Bhavani\n"
          ]
        }
      ]
    },
    {
      "cell_type": "code",
      "source": [
        "find_sum = lambda n: sum([int(x) for x in str(n)])\n",
        "print('find_sum():', find_sum(1090))"
      ],
      "metadata": {
        "colab": {
          "base_uri": "https://localhost:8080/"
        },
        "id": "gc1r9jnEBLhV",
        "outputId": "b0bed878-b8e7-4340-91b3-7b1ba6443d09"
      },
      "execution_count": null,
      "outputs": [
        {
          "output_type": "stream",
          "name": "stdout",
          "text": [
            "find_sum(): 10\n"
          ]
        }
      ]
    },
    {
      "cell_type": "code",
      "source": [
        "my_list = [1, 2, 3, 4, 5]\n",
        "transformed_list = list(map(lambda x: x ** 2, filter(lambda x: x % 2 == 0,my_list)))\n",
        "print(transformed_list)"
      ],
      "metadata": {
        "id": "gHvCsslQBzcE",
        "colab": {
          "base_uri": "https://localhost:8080/"
        },
        "outputId": "c1b2ec28-6a0f-485c-e292-ab625be32c5e"
      },
      "execution_count": null,
      "outputs": [
        {
          "output_type": "stream",
          "name": "stdout",
          "text": [
            "[4, 16]\n"
          ]
        }
      ]
    },
    {
      "cell_type": "code",
      "source": [
        "li = ['apple', 'banana', 'cherry', 'data', 'elderberry']\n",
        "x = sorted(li, key = lambda x: x[1] + x[0])\n",
        "x"
      ],
      "metadata": {
        "colab": {
          "base_uri": "https://localhost:8080/"
        },
        "id": "SVAiNQnSgg0m",
        "outputId": "7e6d3070-b7c1-41bd-dc74-e73ceabec1ef"
      },
      "execution_count": null,
      "outputs": [
        {
          "output_type": "execute_result",
          "data": {
            "text/plain": [
              "['banana', 'data', 'cherry', 'elderberry', 'apple']"
            ]
          },
          "metadata": {},
          "execution_count": 5
        }
      ]
    },
    {
      "cell_type": "code",
      "source": [
        "vowels = ['a', 'e', 'i', 'o', 'u']\n",
        "no_vowels = map(lambda x: ''.join(filter(lambda y: y.lower() not in vowels, x)), li)\n",
        "print(list(no_vowels))"
      ],
      "metadata": {
        "colab": {
          "base_uri": "https://localhost:8080/"
        },
        "id": "EX995TRwmapM",
        "outputId": "2df96d1f-5c96-438b-be6e-1c2a079f0448"
      },
      "execution_count": null,
      "outputs": [
        {
          "output_type": "stream",
          "name": "stdout",
          "text": [
            "['ppl', 'bnn', 'chrry', 'dt', 'ldrbrry']\n"
          ]
        }
      ]
    },
    {
      "cell_type": "code",
      "source": [
        "def replacechars(input, c1, c2):\n",
        "  newChars = map(lambda x: x if (x != c1 and x != c2) else c1 if (x == c2) else c2, input)\n",
        "  join_em = ''.join(newChars)\n",
        "  return join_em\n",
        "replacechars('Bhavani Prasad', 'a', 'z')"
      ],
      "metadata": {
        "colab": {
          "base_uri": "https://localhost:8080/",
          "height": 37
        },
        "id": "kaf2-fJZocyi",
        "outputId": "da568e40-cfb9-4a46-d675-64b557610510"
      },
      "execution_count": null,
      "outputs": [
        {
          "output_type": "execute_result",
          "data": {
            "text/plain": [
              "'Bhzvzni Przszd'"
            ],
            "application/vnd.google.colaboratory.intrinsic+json": {
              "type": "string"
            }
          },
          "metadata": {},
          "execution_count": 12
        }
      ]
    },
    {
      "cell_type": "code",
      "source": [
        "def asciiSums(sentence):\n",
        "  words = sentence.split()\n",
        "  result = {}\n",
        "  for word in words:\n",
        "    currentsum = sum(map(ord, word))\n",
        "    result[word] = currentsum\n",
        "  totalsum = 0\n",
        "  sumofascii = [result[word] for word in words]\n",
        "  print(' '.join(map(str, sumofascii)))\n",
        "  print(sum(sumofascii))\n",
        "asciiSums('I am Bhavani Prasad V')"
      ],
      "metadata": {
        "colab": {
          "base_uri": "https://localhost:8080/"
        },
        "id": "J6Bu3qxTqZNL",
        "outputId": "e1b2a7ad-8783-44d8-adf4-3cca470e8c64"
      },
      "execution_count": null,
      "outputs": [
        {
          "output_type": "stream",
          "name": "stdout",
          "text": [
            "73 206 697 603 86\n",
            "1665\n"
          ]
        }
      ]
    },
    {
      "cell_type": "code",
      "source": [
        "def largest_common_word(str1, str2):\n",
        "  words1 = str1.split()\n",
        "  words2 = str2.split()\n",
        "  longest_word = ''\n",
        "  for w1 in words1:\n",
        "    for w2 in words2:\n",
        "      if w1 == w2 and len(w2) > len(longest_word):\n",
        "        longest_word = w1\n",
        "  return longest_word\n",
        "str1 = \"The quick brown fox jumps over the lazy dog\"\n",
        "str2 = \"The lazy dog is jumped over by the quick brown fox\"\n",
        "print(largest_common_word(str1, str2))"
      ],
      "metadata": {
        "colab": {
          "base_uri": "https://localhost:8080/"
        },
        "id": "vDCH5KH5x50I",
        "outputId": "131efcda-8caf-43a2-f383-2184e76b8b39"
      },
      "execution_count": null,
      "outputs": [
        {
          "output_type": "stream",
          "name": "stdout",
          "text": [
            "quick\n"
          ]
        }
      ]
    },
    {
      "cell_type": "code",
      "source": [
        "details = {'name': 'John', 'Age': 22, 'Email': 'john@gmail.com'}\n",
        "details.keys()\n",
        "details.values()"
      ],
      "metadata": {
        "colab": {
          "base_uri": "https://localhost:8080/"
        },
        "id": "rMCssoLEymaV",
        "outputId": "04042fda-8acb-4f26-d204-853baa46729f"
      },
      "execution_count": null,
      "outputs": [
        {
          "output_type": "execute_result",
          "data": {
            "text/plain": [
              "dict_values(['John', 22, 'john@gmail.com'])"
            ]
          },
          "metadata": {},
          "execution_count": 19
        }
      ]
    },
    {
      "cell_type": "code",
      "source": [
        "import time\n",
        "uid = ''\n",
        "upass = ''\n",
        "count = 0\n",
        "while uid != 'abcde' or upass != '12345':\n",
        "  count = count + 1\n",
        "  uid = input('Enter User id:')\n",
        "  upass = input('Enter User password')\n",
        "  if count == 3:\n",
        "    print('You Entered 3 times wrong credentials, wait for 10 sec')\n",
        "    count = 0\n",
        "    time.sleep(10)\n",
        "    continue\n",
        "    print(f'try Again, Attempt {count} lost')\n",
        "else:\n",
        "  print('Login success')"
      ],
      "metadata": {
        "colab": {
          "base_uri": "https://localhost:8080/"
        },
        "id": "HV3A-5Vs2akV",
        "outputId": "c5ba6475-1c7d-4f3c-b119-e9d8cbca09ac"
      },
      "execution_count": null,
      "outputs": [
        {
          "output_type": "stream",
          "name": "stdout",
          "text": [
            "Enter User id:abcde\n",
            "Enter User password12345\n",
            "Login success\n"
          ]
        }
      ]
    },
    {
      "cell_type": "code",
      "source": [
        "def rev_words(sentence):\n",
        "  words = sentence.split()\n",
        "  print(words)\n",
        "  rev_words = [word[::-1] for word in words]\n",
        "  print(rev_words)\n",
        "  rev_sentence = ' '.join(rev_words)\n",
        "  return rev_sentence\n",
        "input_sentence = input('Enter a sentence: ')\n",
        "rev_sentence = rev_words(input_sentence)\n",
        "print('revsentence: ', rev_sentence)\n",
        "\n",
        "# stri=input(\"Enter the string here: \").split()\n",
        "# for i in stri:\n",
        "#     print(i[::-1],end=' ')"
      ],
      "metadata": {
        "colab": {
          "base_uri": "https://localhost:8080/"
        },
        "id": "kJjFBGFL3o54",
        "outputId": "256cad21-abcc-4ab6-8461-aad1de8acf73"
      },
      "execution_count": null,
      "outputs": [
        {
          "output_type": "stream",
          "name": "stdout",
          "text": [
            "Enter a sentence: I am the Boss\n",
            "['I', 'am', 'the', 'Boss']\n",
            "['I', 'ma', 'eht', 'ssoB']\n",
            "revsentence:  I ma eht ssoB\n"
          ]
        }
      ]
    },
    {
      "cell_type": "code",
      "source": [
        "def calculator_menu():\n",
        "  print(\"Calculater Menu\")\n",
        "  print(\"1. Addition\")\n",
        "  print(\"2. Subtraction\")\n",
        "  print(\"3. Multiplication\")\n",
        "  print(\"4. Division\")\n",
        "\n",
        "\n",
        "def perform_operation(choice , num1 , num2):\n",
        "  if choice == 1:\n",
        "    result = num1 + num2\n",
        "  elif choice == 2:\n",
        "    result = num1 - num2\n",
        "  elif choice == 3:\n",
        "    result = num1 * num2\n",
        "  elif choice == 4:\n",
        "    result = num1 / num2\n",
        "\n",
        "  return result\n",
        "while True:\n",
        "  calculator_menu()\n",
        "  user_choice = int(input(\"Select an operation (1/2/3/4) , 0 => to exit the app\"))\n",
        "\n",
        "  if user_choice == 0:\n",
        "    print(\"Closing the app\")\n",
        "    break\n",
        "\n",
        "  elif user_choice not in (1,2,3,4):\n",
        "    print(\"Invalid choice try again\")\n",
        "\n",
        "  else:\n",
        "    n1 = float(input(\"Enter 1st number\"))\n",
        "    n2 = float(input(\"Enter 2nd number\"))\n",
        "    result = perform_operation(user_choice , n1 , n2)\n",
        "    print(result)\n",
        "    print(\"***********************************************\")"
      ],
      "metadata": {
        "colab": {
          "base_uri": "https://localhost:8080/"
        },
        "id": "fp08FQ105L9K",
        "outputId": "d453bd43-0a57-4e22-d409-1c89b03156d3"
      },
      "execution_count": null,
      "outputs": [
        {
          "output_type": "stream",
          "name": "stdout",
          "text": [
            "Calculater Menu\n",
            "1. Addition\n",
            "2. Subtraction\n",
            "3. Multiplication\n",
            "4. Division\n",
            "Select an operation (1/2/3/4) , 0 => to exit the app1\n",
            "Enter 1st number1\n",
            "Enter 2nd number2\n",
            "3.0\n",
            "***********************************************\n",
            "Calculater Menu\n",
            "1. Addition\n",
            "2. Subtraction\n",
            "3. Multiplication\n",
            "4. Division\n",
            "Select an operation (1/2/3/4) , 0 => to exit the app0\n",
            "Closing the app\n"
          ]
        }
      ]
    },
    {
      "cell_type": "code",
      "source": [
        "text6 = \"  Google  \"\n",
        "print(text6.lstrip())         #remove space from left side\n",
        "print(text6.rstrip())         #remove space from right side\n",
        "print(text6.strip())          #remove any extra spaces"
      ],
      "metadata": {
        "colab": {
          "base_uri": "https://localhost:8080/"
        },
        "id": "mbmd-eXQ5V0D",
        "outputId": "ebc9c39b-1427-420f-b748-9d4553aaa658"
      },
      "execution_count": null,
      "outputs": [
        {
          "output_type": "stream",
          "name": "stdout",
          "text": [
            "Google  \n",
            "  Google\n",
            "Google\n"
          ]
        }
      ]
    },
    {
      "cell_type": "code",
      "source": [
        "name = \"Bhavani\"\n",
        "age = 20\n",
        "print(\"%s is %d years old\" %(name,age))"
      ],
      "metadata": {
        "colab": {
          "base_uri": "https://localhost:8080/"
        },
        "id": "WeCnFcX75gFe",
        "outputId": "29694823-d525-41b4-ee6d-a9982b93d212"
      },
      "execution_count": null,
      "outputs": [
        {
          "output_type": "stream",
          "name": "stdout",
          "text": [
            "Bhavani is 20 years old\n"
          ]
        }
      ]
    },
    {
      "cell_type": "code",
      "source": [
        "class Student:\n",
        "  def set_name(self, name):\n",
        "    self.name = name\n",
        "  def set_rollno(self, rollno):\n",
        "    self.rollno = rollno\n",
        "  def showdetails(self):\n",
        "    print(f\"Name: {self.name}\\nRollno:  {self.rollno}\")\n",
        "s1 = Student()\n",
        "s1.set_name(\"Bhavani\")\n",
        "s1.set_rollno(\"J9\")\n",
        "s1.showdetails()"
      ],
      "metadata": {
        "colab": {
          "base_uri": "https://localhost:8080/"
        },
        "id": "x1wIc4Kw6grJ",
        "outputId": "2f901e11-2a63-4a3c-cb4e-fd2b8714de3b"
      },
      "execution_count": 28,
      "outputs": [
        {
          "output_type": "stream",
          "name": "stdout",
          "text": [
            "Name: Bhavani\n",
            "Rollno:  J9\n"
          ]
        }
      ]
    },
    {
      "cell_type": "code",
      "source": [
        "class Car:\n",
        "  def __init__(self, make, model, year):\n",
        "    self.make = make\n",
        "    self.model = model\n",
        "    self.year = year\n",
        "    self.speed = 0\n",
        "  def accelerate(self):\n",
        "    self.speed += 10\n",
        "  def brake(self):\n",
        "    self.speed -= 5\n",
        "  def Display(self):\n",
        "    print(f\"Name: {self.make}\\nModel: {self.model}\\nYear: {self.year}\\nSpeed: {self.speed}\")\n",
        "c1 = Car(\"Tata\", \"Harrier\", \"2010\")\n",
        "c1.accelerate()\n",
        "c1.Display()"
      ],
      "metadata": {
        "colab": {
          "base_uri": "https://localhost:8080/"
        },
        "id": "50SSuyfY6syg",
        "outputId": "a8e55030-cef7-43f5-ccc3-effba539ae64"
      },
      "execution_count": 29,
      "outputs": [
        {
          "output_type": "stream",
          "name": "stdout",
          "text": [
            "Name: Tata\n",
            "Model: Harrier\n",
            "Year: 2010\n",
            "Speed: 10\n"
          ]
        }
      ]
    },
    {
      "cell_type": "code",
      "source": [
        "class Employee:\n",
        "  Employee_list = []\n",
        "  count = 0\n",
        "  def __init__(self, name, exp, job_roll):\n",
        "    self.name = name\n",
        "    self.exp = exp\n",
        "    self.job_roll = job_roll\n",
        "    __class__.count = __class__.count + 1\n",
        "    __class__.Employee_list.append({\"Name\" :self.name, \"Experince\" :self.exp, \"Job Description\" :self.job_roll})\n",
        "\n",
        "  def show_details(self):\n",
        "    print(f\"Name: {self.name}\\nExperince: {self.exp}\\nJob Description: {self.job_roll}\")\n",
        "  def show_count(self):\n",
        "    print(__class__.count)\n",
        "  def show_all_employees(self):\n",
        "    print(__class__.Employee_list)\n",
        "e1 = Employee(\"Bhavani\", 1, \"Senior Manager\")\n",
        "e1.show_count()\n",
        "e1.show_details()\n",
        "e2 = Employee(\"Prasad\", 5, \"Product Manager\")\n",
        "e2.show_count()\n",
        "e2.show_details()\n",
        "e1.show_all_employees()"
      ],
      "metadata": {
        "colab": {
          "base_uri": "https://localhost:8080/"
        },
        "id": "a24bZEy36wqX",
        "outputId": "3c75ffeb-49f7-4d80-c8c0-62e4c99c56bf"
      },
      "execution_count": 30,
      "outputs": [
        {
          "output_type": "stream",
          "name": "stdout",
          "text": [
            "1\n",
            "Name: Bhavani\n",
            "Experince: 1\n",
            "Job Description: Senior Manager\n",
            "2\n",
            "Name: Prasad\n",
            "Experince: 5\n",
            "Job Description: Product Manager\n",
            "[{'Name': 'Bhavani', 'Experince': 1, 'Job Description': 'Senior Manager'}, {'Name': 'Prasad', 'Experince': 5, 'Job Description': 'Product Manager'}]\n"
          ]
        }
      ]
    },
    {
      "cell_type": "code",
      "source": [
        "class Employee:\n",
        "  def emp_name(self, emp_name):\n",
        "    self.emp_name = emp_name\n",
        "\n",
        "class Employee_salary(Employee):\n",
        "  def empsalary(self, salary):\n",
        "    self.salary = salary\n",
        "\n",
        "e2 = Employee_salary()\n",
        "e2.emp_name(\"Bhavani\")\n",
        "e2.empsalary(10000000)\n",
        "print(e2.emp_name, e2.salary)"
      ],
      "metadata": {
        "colab": {
          "base_uri": "https://localhost:8080/"
        },
        "id": "gz173ZT961IW",
        "outputId": "d3e92339-0aeb-4a4c-fe22-71d50214b529"
      },
      "execution_count": 31,
      "outputs": [
        {
          "output_type": "stream",
          "name": "stdout",
          "text": [
            "Bhavani 10000000\n"
          ]
        }
      ]
    },
    {
      "cell_type": "code",
      "source": [
        "class Employee:\n",
        "  def __init__(self, emp_name, empp_name):\n",
        "    self.emp_name = emp_name\n",
        "    self.empp_name = empp_name\n",
        "class Employee_Salary(Employee):\n",
        "  def __init__(self, name, sname, salary):\n",
        "    super().__init__(name, sname)\n",
        "    self.salary = salary\n",
        "e2 = Employee_Salary(\"Bhavani\", \"Prasad\", 1000000)\n",
        "print(e2.emp_name, e2.empp_name, e2.salary)"
      ],
      "metadata": {
        "colab": {
          "base_uri": "https://localhost:8080/"
        },
        "id": "Pr6Kk8kI69sV",
        "outputId": "775f6bbe-8c3a-4440-a3b4-9c6ddcf1084a"
      },
      "execution_count": 32,
      "outputs": [
        {
          "output_type": "stream",
          "name": "stdout",
          "text": [
            "Bhavani Prasad 1000000\n"
          ]
        }
      ]
    },
    {
      "cell_type": "code",
      "source": [
        "class Maker:\n",
        "  def object(self):\n",
        "    print(\"Hi\")\n",
        "class Customer(Maker):\n",
        "  def Product(self):\n",
        "    super().object()\n",
        "    print(\"Hello\")\n",
        "c1 = Customer()\n",
        "c1.Product()"
      ],
      "metadata": {
        "colab": {
          "base_uri": "https://localhost:8080/"
        },
        "id": "b6DjQS967Bui",
        "outputId": "f0036a94-60af-4c4f-82cc-0673222fc83a"
      },
      "execution_count": 33,
      "outputs": [
        {
          "output_type": "stream",
          "name": "stdout",
          "text": [
            "Hi\n",
            "Hello\n"
          ]
        }
      ]
    },
    {
      "cell_type": "code",
      "source": [
        "class Parent:\n",
        "  def __init__(self, parent_name):\n",
        "    self.parent_name = parent_name\n",
        "  def speak(self):\n",
        "    return f\"{self.parent_name} Hello, I'm Parent\"\n",
        "class Child(Parent):\n",
        "  def __init__(self, parent_name, child_name):\n",
        "    super().__init__(parent_name)\n",
        "    self.child_name = child_name\n",
        "  def speak(self):\n",
        "    return f\"{self.child_name} Hello, I'm child\"\n",
        "p1 = Parent(\"Ramu\")\n",
        "c1 = Child(\"Shobha Rani\", \"Bhuvana\")\n",
        "print(p1.parent_name)\n",
        "print(p1.speak())\n",
        "print(c1.speak())"
      ],
      "metadata": {
        "colab": {
          "base_uri": "https://localhost:8080/"
        },
        "id": "0N8CDzs97Ecp",
        "outputId": "b88e5340-13af-4a58-8602-f3f93b406e2d"
      },
      "execution_count": 34,
      "outputs": [
        {
          "output_type": "stream",
          "name": "stdout",
          "text": [
            "Ramu\n",
            "Ramu Hello, I'm Parent\n",
            "Bhuvana Hello, I'm child\n"
          ]
        }
      ]
    },
    {
      "cell_type": "code",
      "source": [
        "class Animal:\n",
        "  def __init__(self, name, species):\n",
        "    self.name = name\n",
        "    self.species = species\n",
        "  def make_sound(self):\n",
        "    print(\"sound\")\n",
        "class Dog(Animal):\n",
        "  def make_sound(self):\n",
        "    print(\"wooo\")\n",
        "d1 = Dog(\"Max\", \"German Sheperd\")\n",
        "print(d1.name)\n",
        "print(d1.species)\n",
        "d1.make_sound()"
      ],
      "metadata": {
        "colab": {
          "base_uri": "https://localhost:8080/"
        },
        "id": "_4Rt7KAu7MMT",
        "outputId": "345a5bbf-6e9e-410a-b768-9196051653b2"
      },
      "execution_count": 35,
      "outputs": [
        {
          "output_type": "stream",
          "name": "stdout",
          "text": [
            "Max\n",
            "German Sheperd\n",
            "wooo\n"
          ]
        }
      ]
    },
    {
      "cell_type": "code",
      "source": [
        "class Bus:\n",
        "  def busType(self, bus_name):\n",
        "    self.bus_name = bus_name\n",
        "\n",
        "\n",
        "class Car:\n",
        "  def carType(self, car_name):\n",
        "    self.car_name = car_name\n",
        "\n",
        "\n",
        "class vehicle(Bus, Car):\n",
        "  def set_vehicle(self, busname, carname):\n",
        "    self.busType(busname)\n",
        "    self.carType(carname)\n",
        "\n",
        "  def print_all_vehicle(self):\n",
        "    v = {\"Bus\" : self.bus_name, \"Car\" : self.car_name}\n",
        "    return v\n",
        "\n",
        "v1 = vehicle()\n",
        "v1.set_vehicle(\"New Bus\", \"New Car\")\n",
        "print(v1.print_all_vehicle())\n"
      ],
      "metadata": {
        "colab": {
          "base_uri": "https://localhost:8080/"
        },
        "id": "gd0_F53Z7QEu",
        "outputId": "bf6823c8-47b5-4025-97a1-fe2fbcca91e6"
      },
      "execution_count": 36,
      "outputs": [
        {
          "output_type": "stream",
          "name": "stdout",
          "text": [
            "{'Bus': 'New Bus', 'Car': 'New Car'}\n"
          ]
        }
      ]
    },
    {
      "cell_type": "code",
      "source": [
        "class Bus:\n",
        "  def __init__(self, bus_name):\n",
        "    self.bus_name = bus_name\n",
        "\n",
        "\n",
        "class Car:\n",
        "  def __init__(self, car_name):\n",
        "    self.car_name = car_name\n",
        "\n",
        "\n",
        "class Vehicle(Bus, Car):\n",
        "  def __init__(self, bus_name, car_name):\n",
        "    Bus.__init__(self, bus_name)\n",
        "    Car.__init__(self, car_name)\n",
        "\n",
        "  def print_all_vehicle(self):\n",
        "    v = {\"Bus\" : self.bus_name, \"car\" : self.car_name}\n",
        "    return v\n",
        "\n",
        "v1 = Vehicle(\"Volvo\", \"Mustang\")\n",
        "print(v1.print_all_vehicle())"
      ],
      "metadata": {
        "colab": {
          "base_uri": "https://localhost:8080/"
        },
        "id": "73RkWlqg7SWZ",
        "outputId": "5bd3716d-04e4-451d-c12c-d02acd43c7ce"
      },
      "execution_count": 37,
      "outputs": [
        {
          "output_type": "stream",
          "name": "stdout",
          "text": [
            "{'Bus': 'Volvo', 'car': 'Mustang'}\n"
          ]
        }
      ]
    },
    {
      "cell_type": "code",
      "source": [
        "class parent1:\n",
        "  def parent_one_name(self):\n",
        "    self.parent_one = \"Bhavani\"\n",
        "\n",
        "\n",
        "class parent2:\n",
        "  def parent_two_name(self):\n",
        "    self.parent_two = \"Prasad\"\n",
        "\n",
        "\n",
        "class child(parent1, parent2):\n",
        "  def print_both_parents(self):\n",
        "    self.parent_one_name()\n",
        "    self.parent_two_name()\n",
        "    p = {\"Parent1\" : self.parent_one, \"Parent2\" : self.parent_two}\n",
        "    return p\n",
        "c1 = child()\n",
        "c1.print_both_parents()"
      ],
      "metadata": {
        "colab": {
          "base_uri": "https://localhost:8080/"
        },
        "id": "o1FTn-Bj7Uao",
        "outputId": "45f7c0e7-7f35-4039-a6a3-9bc00da2064a"
      },
      "execution_count": 38,
      "outputs": [
        {
          "output_type": "execute_result",
          "data": {
            "text/plain": [
              "{'Parent1': 'Bhavani', 'Parent2': 'Prasad'}"
            ]
          },
          "metadata": {},
          "execution_count": 38
        }
      ]
    },
    {
      "cell_type": "code",
      "source": [
        "class parent1:\n",
        "  def __init__(self):\n",
        "    self.parent_one = \"Bhavani\"\n",
        "\n",
        "\n",
        "class parent2:\n",
        "  def __init__(self):\n",
        "    self.parent_two = \"Prasad\"\n",
        "\n",
        "\n",
        "class child(parent1, parent2):\n",
        "  def print_both_parents(self):\n",
        "    parent1.__init__(self)\n",
        "    parent2.__init__(self)\n",
        "    p = {\"Parent1\" : self.parent_one, \"Parent2\" :self.parent_two}\n",
        "    return p\n",
        "\n",
        "c1 = child()\n",
        "c1.print_both_parents()"
      ],
      "metadata": {
        "colab": {
          "base_uri": "https://localhost:8080/"
        },
        "id": "T1v_Ppfj7Wm1",
        "outputId": "6df207db-4778-442a-a232-b95e2ee04951"
      },
      "execution_count": 39,
      "outputs": [
        {
          "output_type": "execute_result",
          "data": {
            "text/plain": [
              "{'Parent1': 'Bhavani', 'Parent2': 'Prasad'}"
            ]
          },
          "metadata": {},
          "execution_count": 39
        }
      ]
    },
    {
      "cell_type": "code",
      "source": [
        "file1 = open(\"sample3.txt\")\n",
        "read_content = file1.read()\n",
        "print(read_content)\n",
        "file1.close()"
      ],
      "metadata": {
        "colab": {
          "base_uri": "https://localhost:8080/"
        },
        "id": "SDmTqUMy7Zgh",
        "outputId": "a2f89ae9-11ae-4f9d-9940-09f1e8fb2a21"
      },
      "execution_count": 40,
      "outputs": [
        {
          "output_type": "stream",
          "name": "stdout",
          "text": [
            "Quod equidem non reprehendo;\n",
            "Lorem ipsum dolor sit amet, consectetur adipiscing elit. Quibus natura iure responderit non esse verum aliunde finem beate vivendi, a se principia rei gerendae peti; Quae enim adhuc protulisti, popularia sunt, ego autem a te elegantiora desidero. Duo Reges: constructio interrete. Tum Lucius: Mihi vero ista valde probata sunt, quod item fratri puto. Bestiarum vero nullum iudicium puto. Nihil enim iam habes, quod ad corpus referas; Deinde prima illa, quae in congressu solemus: Quid tu, inquit, huc? Et homini, qui ceteris animantibus plurimum praestat, praecipue a natura nihil datum esse dicemus?\n",
            "\n",
            "Iam id ipsum absurdum, maximum malum neglegi. Quod ea non occurrentia fingunt, vincunt Aristonem; Atqui perspicuum est hominem e corpore animoque constare, cum primae sint animi partes, secundae corporis. Fieri, inquam, Triari, nullo pacto potest, ut non dicas, quid non probes eius, a quo dissentias. Equidem e Cn. An dubium est, quin virtus ita maximam partem optineat in rebus humanis, ut reliquas obruat?\n",
            "\n"
          ]
        }
      ]
    },
    {
      "cell_type": "code",
      "source": [
        "try:\n",
        "  file1 = open(\"sample3.txt\", \"r\")\n",
        "  read_content = file1.read()\n",
        "  print(read_content)\n",
        "finally:\n",
        "  file1.close()"
      ],
      "metadata": {
        "colab": {
          "base_uri": "https://localhost:8080/"
        },
        "id": "81g14UGV8Cwb",
        "outputId": "52a5d6c1-ff05-4427-b804-3a8762df8f79"
      },
      "execution_count": 41,
      "outputs": [
        {
          "output_type": "stream",
          "name": "stdout",
          "text": [
            "Quod equidem non reprehendo;\n",
            "Lorem ipsum dolor sit amet, consectetur adipiscing elit. Quibus natura iure responderit non esse verum aliunde finem beate vivendi, a se principia rei gerendae peti; Quae enim adhuc protulisti, popularia sunt, ego autem a te elegantiora desidero. Duo Reges: constructio interrete. Tum Lucius: Mihi vero ista valde probata sunt, quod item fratri puto. Bestiarum vero nullum iudicium puto. Nihil enim iam habes, quod ad corpus referas; Deinde prima illa, quae in congressu solemus: Quid tu, inquit, huc? Et homini, qui ceteris animantibus plurimum praestat, praecipue a natura nihil datum esse dicemus?\n",
            "\n",
            "Iam id ipsum absurdum, maximum malum neglegi. Quod ea non occurrentia fingunt, vincunt Aristonem; Atqui perspicuum est hominem e corpore animoque constare, cum primae sint animi partes, secundae corporis. Fieri, inquam, Triari, nullo pacto potest, ut non dicas, quid non probes eius, a quo dissentias. Equidem e Cn. An dubium est, quin virtus ita maximam partem optineat in rebus humanis, ut reliquas obruat?\n",
            "\n"
          ]
        }
      ]
    },
    {
      "cell_type": "code",
      "source": [
        "with open(\"sample3.txt\", \"r\") as file1:\n",
        "  read_content = file1.read()\n",
        "  print(read_content)"
      ],
      "metadata": {
        "colab": {
          "base_uri": "https://localhost:8080/"
        },
        "id": "KuTdjZHv8FOz",
        "outputId": "27214f84-c573-454d-81e5-32e220513eaf"
      },
      "execution_count": 42,
      "outputs": [
        {
          "output_type": "stream",
          "name": "stdout",
          "text": [
            "Quod equidem non reprehendo;\n",
            "Lorem ipsum dolor sit amet, consectetur adipiscing elit. Quibus natura iure responderit non esse verum aliunde finem beate vivendi, a se principia rei gerendae peti; Quae enim adhuc protulisti, popularia sunt, ego autem a te elegantiora desidero. Duo Reges: constructio interrete. Tum Lucius: Mihi vero ista valde probata sunt, quod item fratri puto. Bestiarum vero nullum iudicium puto. Nihil enim iam habes, quod ad corpus referas; Deinde prima illa, quae in congressu solemus: Quid tu, inquit, huc? Et homini, qui ceteris animantibus plurimum praestat, praecipue a natura nihil datum esse dicemus?\n",
            "\n",
            "Iam id ipsum absurdum, maximum malum neglegi. Quod ea non occurrentia fingunt, vincunt Aristonem; Atqui perspicuum est hominem e corpore animoque constare, cum primae sint animi partes, secundae corporis. Fieri, inquam, Triari, nullo pacto potest, ut non dicas, quid non probes eius, a quo dissentias. Equidem e Cn. An dubium est, quin virtus ita maximam partem optineat in rebus humanis, ut reliquas obruat?\n",
            "\n"
          ]
        }
      ]
    },
    {
      "cell_type": "code",
      "source": [
        "with open(\"sample4.txt\", \"w\") as file2:\n",
        "  file2.write(\"Bhavani Prasad.\\n\")\n",
        "  file2.write(\"Veeraboina.\")"
      ],
      "metadata": {
        "id": "miDzvZrV8HY7"
      },
      "execution_count": 43,
      "outputs": []
    },
    {
      "cell_type": "code",
      "source": [
        "with open(\"sample4.txt\", \"r\") as f:\n",
        "  print(f.read())"
      ],
      "metadata": {
        "colab": {
          "base_uri": "https://localhost:8080/"
        },
        "id": "xuh4xYNQ8JJE",
        "outputId": "a070f9cf-7438-41d7-8406-7a80530bbb43"
      },
      "execution_count": 44,
      "outputs": [
        {
          "output_type": "stream",
          "name": "stdout",
          "text": [
            "Bhavani Prasad.\n",
            "Veeraboina.\n"
          ]
        }
      ]
    },
    {
      "cell_type": "code",
      "source": [
        "with open(\"sample4.txt\", \"a\") as f1:\n",
        "  f1.write(\"I am BOSS\")"
      ],
      "metadata": {
        "id": "333A-LoN8LAF"
      },
      "execution_count": 45,
      "outputs": []
    },
    {
      "cell_type": "code",
      "source": [
        "with open(\"sample4.txt\", \"r\") as f3:\n",
        "  print(f3.read())"
      ],
      "metadata": {
        "colab": {
          "base_uri": "https://localhost:8080/"
        },
        "id": "nO_cVH8S8M5d",
        "outputId": "f6bc17e3-aa50-4a0a-93e4-b0f099f4c70b"
      },
      "execution_count": 46,
      "outputs": [
        {
          "output_type": "stream",
          "name": "stdout",
          "text": [
            "Bhavani Prasad.\n",
            "Veeraboina.I am BOSS\n"
          ]
        }
      ]
    },
    {
      "cell_type": "code",
      "source": [
        "def delete_line(filename, line_number):\n",
        "\n",
        "  # opens the file, reads and stores each line into a list\n",
        "  with open(filename) as file:\n",
        "    lines = file.readlines()\n",
        "\n",
        "  # if the line number is in the file, we can delete it\n",
        "  if (line_number <= len(lines)):\n",
        "\n",
        "    # delete the line from the list, which will be at line_number - 1 because\n",
        "    # lists are zero-indexed in Python\n",
        "    del lines[line_number - 1]\n",
        "\n",
        "    # open the file for writing with \"w\" which will make the file blank\n",
        "    with open(filename, \"w\") as file:\n",
        "\n",
        "      # write as the new content of the file, the remaining lines in the list\n",
        "      for line in lines:\n",
        "        file.write(line)\n",
        "\n",
        "  # if the line number exceeds the length of the file, output an error message\n",
        "  else:\n",
        "\n",
        "    # inform the user the line is not in the file, and how many lines there is\n",
        "    print(\"Line\", line_number, \"not in file.\")\n",
        "    print(\"File has\", len(lines), \"lines.\")\n",
        "\n",
        "\n",
        "# prompt the user for the filename and line number\n",
        "delete_filename = input(\"File: \")\n",
        "delete_line_number = int(input(\"Line: \"))\n",
        "\n",
        "# call the delete_line function to delete the line at that line number from\n",
        "# the file with that filename\n",
        "delete_line(delete_filename, delete_line_number)"
      ],
      "metadata": {
        "colab": {
          "base_uri": "https://localhost:8080/"
        },
        "id": "wrcjU_XD8OmG",
        "outputId": "bc72afb2-da73-48b3-a1ef-d923e9bd13f2"
      },
      "execution_count": 48,
      "outputs": [
        {
          "name": "stdout",
          "output_type": "stream",
          "text": [
            "File: sample3.txt\n",
            "Line: 1\n"
          ]
        }
      ]
    },
    {
      "cell_type": "code",
      "source": [
        "with open(\"sample3.txt\") as f:\n",
        "  print(f.read())"
      ],
      "metadata": {
        "colab": {
          "base_uri": "https://localhost:8080/"
        },
        "id": "EMnghZKg8ZLZ",
        "outputId": "2b68584e-d0f8-45b2-e407-3a58d09591cb"
      },
      "execution_count": 49,
      "outputs": [
        {
          "output_type": "stream",
          "name": "stdout",
          "text": [
            "Lorem ipsum dolor sit amet, consectetur adipiscing elit. Quibus natura iure responderit non esse verum aliunde finem beate vivendi, a se principia rei gerendae peti; Quae enim adhuc protulisti, popularia sunt, ego autem a te elegantiora desidero. Duo Reges: constructio interrete. Tum Lucius: Mihi vero ista valde probata sunt, quod item fratri puto. Bestiarum vero nullum iudicium puto. Nihil enim iam habes, quod ad corpus referas; Deinde prima illa, quae in congressu solemus: Quid tu, inquit, huc? Et homini, qui ceteris animantibus plurimum praestat, praecipue a natura nihil datum esse dicemus?\n",
            "\n",
            "Iam id ipsum absurdum, maximum malum neglegi. Quod ea non occurrentia fingunt, vincunt Aristonem; Atqui perspicuum est hominem e corpore animoque constare, cum primae sint animi partes, secundae corporis. Fieri, inquam, Triari, nullo pacto potest, ut non dicas, quid non probes eius, a quo dissentias. Equidem e Cn. An dubium est, quin virtus ita maximam partem optineat in rebus humanis, ut reliquas obruat?\n",
            "\n"
          ]
        }
      ]
    },
    {
      "cell_type": "code",
      "source": [
        "import re\n",
        "string = open(\"sample3.txt\").read()\n",
        "new_str = re.sub(\",\", \"\", string)\n",
        "open(\"sample4.txt\", \"w\").write(new_str)\n",
        "print(new_str)"
      ],
      "metadata": {
        "colab": {
          "base_uri": "https://localhost:8080/"
        },
        "id": "7vCR0KyR8mhZ",
        "outputId": "def09686-90d2-4c9a-83f3-bcf1965d1091"
      },
      "execution_count": 50,
      "outputs": [
        {
          "output_type": "stream",
          "name": "stdout",
          "text": [
            "Lorem ipsum dolor sit amet consectetur adipiscing elit. Quibus natura iure responderit non esse verum aliunde finem beate vivendi a se principia rei gerendae peti; Quae enim adhuc protulisti popularia sunt ego autem a te elegantiora desidero. Duo Reges: constructio interrete. Tum Lucius: Mihi vero ista valde probata sunt quod item fratri puto. Bestiarum vero nullum iudicium puto. Nihil enim iam habes quod ad corpus referas; Deinde prima illa quae in congressu solemus: Quid tu inquit huc? Et homini qui ceteris animantibus plurimum praestat praecipue a natura nihil datum esse dicemus?\n",
            "\n",
            "Iam id ipsum absurdum maximum malum neglegi. Quod ea non occurrentia fingunt vincunt Aristonem; Atqui perspicuum est hominem e corpore animoque constare cum primae sint animi partes secundae corporis. Fieri inquam Triari nullo pacto potest ut non dicas quid non probes eius a quo dissentias. Equidem e Cn. An dubium est quin virtus ita maximam partem optineat in rebus humanis ut reliquas obruat?\n",
            "\n"
          ]
        }
      ]
    },
    {
      "cell_type": "code",
      "source": [
        "import os\n",
        "current_dir = os.getcwd() # to know the current directory\n",
        "print(current_dir)\n",
        "# os.chdir(\"\")  to change the directory\n",
        "# All files and sub-directories inside a dirctory can be retrieved using the\n",
        "# *listdir()* function of the os module.\n",
        "# We can create a new directory using the *mkdir()* function of the os module\n",
        "# We can rename any directory or file using the *os.rename()* function which\n",
        "# takes in 2 arguments : old name and new name\n",
        "# we can remove a file using the remove() function of the os module\n",
        "# for an empty directory *os.rmdir()*"
      ],
      "metadata": {
        "colab": {
          "base_uri": "https://localhost:8080/"
        },
        "id": "DnlPjx7B8n-K",
        "outputId": "b1ad3f19-9c53-416c-82b6-7bd00cbf87a8"
      },
      "execution_count": 51,
      "outputs": [
        {
          "output_type": "stream",
          "name": "stdout",
          "text": [
            "/content\n"
          ]
        }
      ]
    }
  ]
}
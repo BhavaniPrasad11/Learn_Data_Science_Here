{
  "nbformat": 4,
  "nbformat_minor": 0,
  "metadata": {
    "colab": {
      "provenance": []
    },
    "kernelspec": {
      "name": "python3",
      "display_name": "Python 3"
    },
    "language_info": {
      "name": "python"
    }
  },
  "cells": [
    {
      "cell_type": "code",
      "execution_count": 1,
      "metadata": {
        "id": "qOdm_-QZrnzO"
      },
      "outputs": [],
      "source": [
        "import numpy as np\n",
        "import pandas as pd\n",
        "import matplotlib\n",
        "import matplotlib.pyplot as plt\n",
        "import seaborn as sns"
      ]
    },
    {
      "cell_type": "markdown",
      "source": [
        "**Bhavani Prasad V's Notes**"
      ],
      "metadata": {
        "id": "2fSWQrB-vS_e"
      }
    },
    {
      "cell_type": "markdown",
      "source": [
        "# NumPy\n",
        "<hr>\n",
        "<hr>"
      ],
      "metadata": {
        "id": "_BVXqiTis0bU"
      }
    },
    {
      "cell_type": "markdown",
      "source": [
        "> **NumPy**, short for \"Numerical Python,\" is a fundamental Python library for numerical and **array**-based operations. It provides support for large, multi-dimensional arrays and matrices, as well as a vast collection of mathematical functions to operate on these arrays. NumPy is widely used in scientific, mathematical, and data-related computing tasks and serves as the foundation for many other libraries in the data science and machine learning ecosystems."
      ],
      "metadata": {
        "id": "0QzF53feukcD"
      }
    },
    {
      "cell_type": "code",
      "source": [
        "# Create a NumPy array\n",
        "n = np.array([1, 2])\n",
        "n"
      ],
      "metadata": {
        "colab": {
          "base_uri": "https://localhost:8080/"
        },
        "id": "zESAOI1ds-P3",
        "outputId": "2fd92f30-f379-4bf5-d592-03f406339df7"
      },
      "execution_count": 2,
      "outputs": [
        {
          "output_type": "execute_result",
          "data": {
            "text/plain": [
              "array([1, 2])"
            ]
          },
          "metadata": {},
          "execution_count": 2
        }
      ]
    },
    {
      "cell_type": "code",
      "source": [
        "n[n < 3]"
      ],
      "metadata": {
        "colab": {
          "base_uri": "https://localhost:8080/"
        },
        "id": "NMgCoXQ6PBX7",
        "outputId": "c21d5d00-e3cf-4bc5-c277-839b7abaa43d"
      },
      "execution_count": 3,
      "outputs": [
        {
          "output_type": "execute_result",
          "data": {
            "text/plain": [
              "array([1, 2])"
            ]
          },
          "metadata": {},
          "execution_count": 3
        }
      ]
    },
    {
      "cell_type": "code",
      "source": [
        "# Check the data type of the NumPy array 'n'\n",
        "n.dtype"
      ],
      "metadata": {
        "colab": {
          "base_uri": "https://localhost:8080/"
        },
        "id": "Afhb6xnaFk6k",
        "outputId": "c3299473-0d59-4bf0-f7d0-f9c08ee2d056"
      },
      "execution_count": 4,
      "outputs": [
        {
          "output_type": "execute_result",
          "data": {
            "text/plain": [
              "dtype('int64')"
            ]
          },
          "metadata": {},
          "execution_count": 4
        }
      ]
    },
    {
      "cell_type": "code",
      "source": [
        "# Create a 2D NumPy array\n",
        "n2 = np.array([[2, 3], [5, 6]])\n",
        "n3 = np.array([[2, 3], [5, 6]])\n",
        "n2, n3"
      ],
      "metadata": {
        "id": "F5Vr2H-VupqN",
        "colab": {
          "base_uri": "https://localhost:8080/"
        },
        "outputId": "98261917-019c-4873-9814-5f3c8de036c1"
      },
      "execution_count": 5,
      "outputs": [
        {
          "output_type": "execute_result",
          "data": {
            "text/plain": [
              "(array([[2, 3],\n",
              "        [5, 6]]),\n",
              " array([[2, 3],\n",
              "        [5, 6]]))"
            ]
          },
          "metadata": {},
          "execution_count": 5
        }
      ]
    },
    {
      "cell_type": "code",
      "source": [
        "print((n2 <= n3).sum())\n",
        "n2 == n3"
      ],
      "metadata": {
        "colab": {
          "base_uri": "https://localhost:8080/"
        },
        "id": "1QcFpWF4KAvB",
        "outputId": "d19509fb-54c2-4f2e-9a3c-8a15d0915183"
      },
      "execution_count": 6,
      "outputs": [
        {
          "output_type": "stream",
          "name": "stdout",
          "text": [
            "4\n"
          ]
        },
        {
          "output_type": "execute_result",
          "data": {
            "text/plain": [
              "array([[ True,  True],\n",
              "       [ True,  True]])"
            ]
          },
          "metadata": {},
          "execution_count": 6
        }
      ]
    },
    {
      "cell_type": "code",
      "source": [
        "# Create a 3D NumPy array 'nnn' with two 2x2x3 sub-arrays\n",
        "nnn = np.array([\n",
        "    [[11, 12, 13],\n",
        "     [13, 14, 15]],\n",
        "\n",
        "    [[15, 16, 17],\n",
        "     [17, 18, 19]]\n",
        "])\n",
        "print(nnn)\n",
        "nnn.shape"
      ],
      "metadata": {
        "colab": {
          "base_uri": "https://localhost:8080/"
        },
        "id": "iJQMUkjpE_c5",
        "outputId": "c94f09c5-a80f-4183-b0e4-7836901cd001"
      },
      "execution_count": 7,
      "outputs": [
        {
          "output_type": "stream",
          "name": "stdout",
          "text": [
            "[[[11 12 13]\n",
            "  [13 14 15]]\n",
            "\n",
            " [[15 16 17]\n",
            "  [17 18 19]]]\n"
          ]
        },
        {
          "output_type": "execute_result",
          "data": {
            "text/plain": [
              "(2, 2, 3)"
            ]
          },
          "metadata": {},
          "execution_count": 7
        }
      ]
    },
    {
      "cell_type": "code",
      "source": [
        "# Slicing\n",
        "nnn[1, ...]"
      ],
      "metadata": {
        "colab": {
          "base_uri": "https://localhost:8080/"
        },
        "id": "JSv1wyMXS5Es",
        "outputId": "63923937-3b5a-4a80-8592-0215ab4b0c45"
      },
      "execution_count": 8,
      "outputs": [
        {
          "output_type": "execute_result",
          "data": {
            "text/plain": [
              "array([[15, 16, 17],\n",
              "       [17, 18, 19]])"
            ]
          },
          "metadata": {},
          "execution_count": 8
        }
      ]
    },
    {
      "cell_type": "code",
      "source": [
        "# Check the number of dimensions in the NumPy array 'nnn'\n",
        "nnn.ndim"
      ],
      "metadata": {
        "colab": {
          "base_uri": "https://localhost:8080/"
        },
        "id": "ygC_lkipMmv_",
        "outputId": "37b7c14c-0104-435d-fda5-6914ac87491f"
      },
      "execution_count": 9,
      "outputs": [
        {
          "output_type": "execute_result",
          "data": {
            "text/plain": [
              "3"
            ]
          },
          "metadata": {},
          "execution_count": 9
        }
      ]
    },
    {
      "cell_type": "code",
      "source": [
        "# Compute the dot product of two NumPy arrays\n",
        "dot_product = np.dot(n2, n3)\n",
        "dot_product"
      ],
      "metadata": {
        "colab": {
          "base_uri": "https://localhost:8080/"
        },
        "id": "Vx7RJTeH3Cu9",
        "outputId": "0e031315-e5f6-4388-ce6e-55ea536c7108"
      },
      "execution_count": 10,
      "outputs": [
        {
          "output_type": "execute_result",
          "data": {
            "text/plain": [
              "array([[19, 24],\n",
              "       [40, 51]])"
            ]
          },
          "metadata": {},
          "execution_count": 10
        }
      ]
    },
    {
      "cell_type": "code",
      "source": [
        "# Calculate the matrix multiplication of 'n2' and 'n'\n",
        "np.matmul(n2, n)"
      ],
      "metadata": {
        "colab": {
          "base_uri": "https://localhost:8080/"
        },
        "id": "nGDEMhYAIzxr",
        "outputId": "9e3d87c1-aa58-4fb0-bbf7-8d1684a3fde3"
      },
      "execution_count": 11,
      "outputs": [
        {
          "output_type": "execute_result",
          "data": {
            "text/plain": [
              "array([ 8, 17])"
            ]
          },
          "metadata": {},
          "execution_count": 11
        }
      ]
    },
    {
      "cell_type": "code",
      "source": [
        "import timeit\n",
        "\n",
        "# Create two NumPy arrays for comparison\n",
        "np_arr1 = np.arange(1000, 2000)\n",
        "np_arr2 = np.arange(1000, 2000)\n",
        "\n",
        "# Define the pure Python function for dot product\n",
        "def pure_python_dot_product():\n",
        "    arr1 = list(range(1000, 2000))\n",
        "    arr2 = list(range(1000, 2000))\n",
        "    return sum(x * y for x, y in zip(arr1, arr2))\n",
        "\n",
        "# Measure the execution time of the NumPy approach\n",
        "numpy_time = timeit.timeit(lambda: np.dot(np_arr1, np_arr2), number=100000)\n",
        "\n",
        "# Measure the execution time of the pure Python approach\n",
        "python_time = timeit.timeit(pure_python_dot_product, number=100000)\n",
        "\n",
        "# Compare execution times\n",
        "print(f\"NumPy execution time: {numpy_time:.6f} seconds\")\n",
        "print(f\"Pure Python execution time: {python_time:.6f} seconds\")\n"
      ],
      "metadata": {
        "colab": {
          "base_uri": "https://localhost:8080/"
        },
        "id": "uSJ_LEluHDIm",
        "outputId": "9a4c396c-f913-445b-d364-667695e34759"
      },
      "execution_count": 12,
      "outputs": [
        {
          "output_type": "stream",
          "name": "stdout",
          "text": [
            "NumPy execution time: 0.462690 seconds\n",
            "Pure Python execution time: 23.875412 seconds\n"
          ]
        }
      ]
    },
    {
      "cell_type": "code",
      "source": [
        "# Several operations with numpy\n",
        "np.sum(n2)\n",
        "np.prod(n2)\n",
        "np.mean(n2)\n",
        "np.min(n2)\n",
        "np.max(n2)\n",
        "np.median(n2)\n",
        "np.std(n2)\n",
        "np.var(n2)\n",
        "np.argmax(n2)\n",
        "np.argmin(n2)"
      ],
      "metadata": {
        "colab": {
          "base_uri": "https://localhost:8080/"
        },
        "id": "nv0enH0P3o0h",
        "outputId": "7cf70c58-c3cb-4633-f3ab-63c12246ff58"
      },
      "execution_count": 13,
      "outputs": [
        {
          "output_type": "execute_result",
          "data": {
            "text/plain": [
              "0"
            ]
          },
          "metadata": {},
          "execution_count": 13
        }
      ]
    },
    {
      "cell_type": "code",
      "source": [
        "n2\n",
        "print(n2.T)"
      ],
      "metadata": {
        "colab": {
          "base_uri": "https://localhost:8080/"
        },
        "id": "eW7ylZL14B9B",
        "outputId": "1ebfb2f5-3eea-4e03-ea89-b167d2ba46bc"
      },
      "execution_count": 14,
      "outputs": [
        {
          "output_type": "stream",
          "name": "stdout",
          "text": [
            "[[2 5]\n",
            " [3 6]]\n"
          ]
        }
      ]
    },
    {
      "cell_type": "code",
      "source": [
        "# Calculate the sum of elements along axis 0 (columns)\n",
        "print(np.sum(n2, axis = 0))\n",
        "\n",
        "# Calculate the sum of elements along axis 1 (rows)\n",
        "print(np.sum(n2, axis = 1))"
      ],
      "metadata": {
        "colab": {
          "base_uri": "https://localhost:8080/"
        },
        "id": "-4LeLxf45OLO",
        "outputId": "1f48da7e-68c8-4ee2-9d20-cda447614c84"
      },
      "execution_count": 15,
      "outputs": [
        {
          "output_type": "stream",
          "name": "stdout",
          "text": [
            "[7 9]\n",
            "[ 5 11]\n"
          ]
        }
      ]
    },
    {
      "cell_type": "code",
      "source": [
        "# Create a NumPy array 'n4' containing values from 0 to 15\n",
        "n4 = np.arange(0, 16)\n",
        "\n",
        "# Reshape 'n4' into a 4x4 array, 'n4_reshaped'\n",
        "n4_reshaped = n4.reshape(4, 4)\n",
        "\n",
        "# Transpose 'n4_reshaped' to create 'n4_transposed'\n",
        "n4_transposed = np.transpose(n4_reshaped)\n",
        "\n",
        "r1, r2 = np.vsplit(n4_reshaped, 2)\n",
        "r3, r4 = np.hsplit(n4_reshaped, 2)\n",
        "print(r2)\n",
        "r4"
      ],
      "metadata": {
        "colab": {
          "base_uri": "https://localhost:8080/"
        },
        "id": "7leTPDzX5S2u",
        "outputId": "2615b733-9bd7-4bae-e31c-4dd31a2f488e"
      },
      "execution_count": 16,
      "outputs": [
        {
          "output_type": "stream",
          "name": "stdout",
          "text": [
            "[[ 8  9 10 11]\n",
            " [12 13 14 15]]\n"
          ]
        },
        {
          "output_type": "execute_result",
          "data": {
            "text/plain": [
              "array([[ 2,  3],\n",
              "       [ 6,  7],\n",
              "       [10, 11],\n",
              "       [14, 15]])"
            ]
          },
          "metadata": {},
          "execution_count": 16
        }
      ]
    },
    {
      "cell_type": "code",
      "source": [
        "  # Create a 2x3 NumPy array 'n5' with random integers ranging from 0 to 99\n",
        "n5 = np.random.randint(0, 100, (2, 3))\n",
        "# np.full([2, 3], 42)\n",
        "n5"
      ],
      "metadata": {
        "colab": {
          "base_uri": "https://localhost:8080/"
        },
        "id": "N_ZHRYZk6VQO",
        "outputId": "be808a29-6455-4ef9-eec3-c6cfa00ae317"
      },
      "execution_count": 17,
      "outputs": [
        {
          "output_type": "execute_result",
          "data": {
            "text/plain": [
              "array([[54,  2, 27],\n",
              "       [ 1, 69, 61]])"
            ]
          },
          "metadata": {},
          "execution_count": 17
        }
      ]
    },
    {
      "cell_type": "code",
      "source": [
        "# Create an array with 5 equally spaced values between 3 and 27\n",
        "np.linspace(3, 27, 5)"
      ],
      "metadata": {
        "colab": {
          "base_uri": "https://localhost:8080/"
        },
        "id": "DWeVplpcLYpB",
        "outputId": "1cc0e78d-b8f5-4d16-f62f-515bf066547c"
      },
      "execution_count": 18,
      "outputs": [
        {
          "output_type": "execute_result",
          "data": {
            "text/plain": [
              "array([ 3.,  9., 15., 21., 27.])"
            ]
          },
          "metadata": {},
          "execution_count": 18
        }
      ]
    },
    {
      "cell_type": "code",
      "source": [
        "# Create a 2x2 NumPy array 'n6' with random values from a uniform distribution (0 to 1)\n",
        "n6 = np.random.rand(2, 2)\n",
        "n6"
      ],
      "metadata": {
        "colab": {
          "base_uri": "https://localhost:8080/"
        },
        "id": "IB1kZ1gn66kN",
        "outputId": "186c4189-12a0-4b8a-a67f-ecef68119679"
      },
      "execution_count": 19,
      "outputs": [
        {
          "output_type": "execute_result",
          "data": {
            "text/plain": [
              "array([[0.2251781 , 0.17626304],\n",
              "       [0.7226445 , 0.4356652 ]])"
            ]
          },
          "metadata": {},
          "execution_count": 19
        }
      ]
    },
    {
      "cell_type": "code",
      "source": [
        "# Create a 2x2 NumPy array 'R' with random integers ranging from 3 to 9\n",
        "R = np.random.randint(3, 10, size = (2, 2))\n",
        "# np.random.choice([1, 2, 3, 4, 5], size = 8)\n",
        "R"
      ],
      "metadata": {
        "colab": {
          "base_uri": "https://localhost:8080/"
        },
        "id": "mywYiFGnLsA5",
        "outputId": "6d039ccb-8595-4cb8-9cf7-975e1826cbf4"
      },
      "execution_count": 20,
      "outputs": [
        {
          "output_type": "execute_result",
          "data": {
            "text/plain": [
              "array([[7, 9],\n",
              "       [5, 3]])"
            ]
          },
          "metadata": {},
          "execution_count": 20
        }
      ]
    },
    {
      "cell_type": "code",
      "source": [
        "plt.hist(np.random.rand(100000), density=True, bins=100, histtype=\"step\", color=\"blue\", label=\"rand\")\n",
        "plt.hist(np.random.randn(100000), density=True, bins=100, histtype=\"step\", color=\"red\", label=\"randn\")\n",
        "plt.axis([-2.5, 2.5, 0, 1.1])\n",
        "plt.legend(loc = \"upper left\")\n",
        "plt.title(\"Random distributions\")\n",
        "plt.xlabel(\"Value\")\n",
        "plt.ylabel(\"Density\")\n",
        "plt.show()"
      ],
      "metadata": {
        "colab": {
          "base_uri": "https://localhost:8080/",
          "height": 472
        },
        "id": "3fWhsB1sNawm",
        "outputId": "2522df54-7054-495a-c9fd-4c55f0f5a7bf"
      },
      "execution_count": 21,
      "outputs": [
        {
          "output_type": "display_data",
          "data": {
            "text/plain": [
              "<Figure size 640x480 with 1 Axes>"
            ],
            "image/png": "[encoded data removed]"
          },
          "metadata": {}
        }
      ]
    },
    {
      "cell_type": "code",
      "source": [
        "# Create a 2x2 NumPy array 'n7' filled with zeros\n",
        "n7 = np.zeros((2, 2))\n",
        "\n",
        "# Create a 2x2 NumPy array 'n8' filled with ones\n",
        "n8 = np.ones((2, 2))\n",
        "\n",
        "# Create a 2x2 identity matrix 'n9'\n",
        "n9 = np.eye(2)\n",
        "n9"
      ],
      "metadata": {
        "colab": {
          "base_uri": "https://localhost:8080/"
        },
        "id": "u-Evthwn7SCj",
        "outputId": "be61e666-8635-4667-fbe3-f406f2c97d38"
      },
      "execution_count": 22,
      "outputs": [
        {
          "output_type": "execute_result",
          "data": {
            "text/plain": [
              "array([[1., 0.],\n",
              "       [0., 1.]])"
            ]
          },
          "metadata": {},
          "execution_count": 22
        }
      ]
    },
    {
      "cell_type": "code",
      "source": [
        "# Extract a subarray from 'n4_transposed' with rows 1 and 2, and columns 1, 2, and 3\n",
        "n4_transposed[1:3, 1:4]"
      ],
      "metadata": {
        "colab": {
          "base_uri": "https://localhost:8080/"
        },
        "id": "i-3PpczD7rnX",
        "outputId": "a9cc1040-336a-48f1-f0e8-028ec92745f2"
      },
      "execution_count": 23,
      "outputs": [
        {
          "output_type": "execute_result",
          "data": {
            "text/plain": [
              "array([[ 5,  9, 13],\n",
              "       [ 6, 10, 14]])"
            ]
          },
          "metadata": {},
          "execution_count": 23
        }
      ]
    },
    {
      "cell_type": "code",
      "source": [
        "# Stack two NumPy arrays 'x' and 'y' horizontally\n",
        "x = np.array([[1, 2, 3], [4, 5, 6]])\n",
        "y = np.array([[1, 2, 3], [4, 5, 6]])\n",
        "arr_hstacked = np.hstack((x, y))\n",
        "arr_hstacked"
      ],
      "metadata": {
        "colab": {
          "base_uri": "https://localhost:8080/"
        },
        "id": "8jvkMbpj8Hgv",
        "outputId": "a6c18cc2-be67-470f-80d1-1ed6e5b7e9e3"
      },
      "execution_count": 24,
      "outputs": [
        {
          "output_type": "execute_result",
          "data": {
            "text/plain": [
              "array([[1, 2, 3, 1, 2, 3],\n",
              "       [4, 5, 6, 4, 5, 6]])"
            ]
          },
          "metadata": {},
          "execution_count": 24
        }
      ]
    },
    {
      "cell_type": "code",
      "source": [
        "# Stack two NumPy arrays 'x' and 'y' vertically\n",
        "# con = np.concatenate((n2, n3), axis = 0)\n",
        "arr_vstacked = np.vstack((x, y))\n",
        "arr_vstacked"
      ],
      "metadata": {
        "colab": {
          "base_uri": "https://localhost:8080/"
        },
        "id": "EKL23aIn9Idb",
        "outputId": "c547c808-382d-4af9-95bb-a8fa3cd9b50d"
      },
      "execution_count": 25,
      "outputs": [
        {
          "output_type": "execute_result",
          "data": {
            "text/plain": [
              "array([[1, 2, 3],\n",
              "       [4, 5, 6],\n",
              "       [1, 2, 3],\n",
              "       [4, 5, 6]])"
            ]
          },
          "metadata": {},
          "execution_count": 25
        }
      ]
    },
    {
      "cell_type": "code",
      "source": [
        "# Sort the NumPy array 'b' in ascending order\n",
        "b = np.array([1, 4, 2, 8, 5, 3, 4, 9, 1, 5, 3, 8, 5, 2])\n",
        "np.sort(b)\n",
        "#np.where(b ==2)"
      ],
      "metadata": {
        "colab": {
          "base_uri": "https://localhost:8080/"
        },
        "id": "tqEmNaos9tvJ",
        "outputId": "296ff8a4-f36c-4eec-d929-725347ff9610"
      },
      "execution_count": 26,
      "outputs": [
        {
          "output_type": "execute_result",
          "data": {
            "text/plain": [
              "array([1, 1, 2, 2, 3, 3, 4, 4, 5, 5, 5, 8, 8, 9])"
            ]
          },
          "metadata": {},
          "execution_count": 26
        }
      ]
    },
    {
      "cell_type": "code",
      "source": [
        "# Calculate the determinant of the 2x2 NumPy array 'a' using NumPy's linalg.det() function\n",
        "a = np.array([[1, 2], [3, 4]])\n",
        "np.linalg.det(a)"
      ],
      "metadata": {
        "colab": {
          "base_uri": "https://localhost:8080/"
        },
        "id": "ksbRGVcj-FcA",
        "outputId": "29d9e00e-9ac5-4fff-89c3-6e3db96bdf73"
      },
      "execution_count": 27,
      "outputs": [
        {
          "output_type": "execute_result",
          "data": {
            "text/plain": [
              "-2.0000000000000004"
            ]
          },
          "metadata": {},
          "execution_count": 27
        }
      ]
    },
    {
      "cell_type": "code",
      "source": [
        "# Calculate the inverse of the 2x2 NumPy array 'a' using NumPy's linalg.inv() function\n",
        "np.linalg.inv(a)"
      ],
      "metadata": {
        "colab": {
          "base_uri": "https://localhost:8080/"
        },
        "id": "tV-x2ken-vHt",
        "outputId": "b1034ea1-69a0-4691-80f1-e626f450889a"
      },
      "execution_count": 28,
      "outputs": [
        {
          "output_type": "execute_result",
          "data": {
            "text/plain": [
              "array([[-2. ,  1. ],\n",
              "       [ 1.5, -0.5]])"
            ]
          },
          "metadata": {},
          "execution_count": 28
        }
      ]
    },
    {
      "cell_type": "code",
      "source": [
        "# Create a NumPy array 'A' as a 3x3 matrix\n",
        "A = np.array([[3, 4, 1], [2, 2, 2], [4, 1, 1]])\n",
        "\n",
        "# Create a NumPy array 'x' with variables 'x', 'y', and 'z'\n",
        "x = np.array([['x'], ['y'], ['z']])\n",
        "\n",
        "# Create a NumPy array 'z' with values 7, 14, and 21\n",
        "z = np.array([[7], [14], [21]])"
      ],
      "metadata": {
        "id": "pDXcyxE7-8OD"
      },
      "execution_count": 29,
      "outputs": []
    },
    {
      "cell_type": "code",
      "source": [
        "# Solve the equation A.X = Z for X\n",
        "# Calculate the inverse of matrix A\n",
        "invA = np.linalg.inv(A)\n",
        "\n",
        "# Compute the solution X by multiplying the inverse of A with Z\n",
        "X = np.dot(invA, z)\n",
        "X"
      ],
      "metadata": {
        "colab": {
          "base_uri": "https://localhost:8080/"
        },
        "id": "y9KOE0Hp_kcG",
        "outputId": "721bef36-ad9f-4416-bb93-6d7ce8455c34"
      },
      "execution_count": 30,
      "outputs": [
        {
          "output_type": "execute_result",
          "data": {
            "text/plain": [
              "array([[ 4.66666667],\n",
              "       [-3.11111111],\n",
              "       [ 5.44444444]])"
            ]
          },
          "metadata": {},
          "execution_count": 30
        }
      ]
    },
    {
      "cell_type": "code",
      "source": [
        "# Load data from the 'climate.txt' file using NumPy's genfromtxt\n",
        "# The data is assumed to be comma-separated with a header row that is skipped\n",
        "climate_data = np.genfromtxt('climate.txt', delimiter = ',', skip_header = 1)\n",
        "climate_data"
      ],
      "metadata": {
        "colab": {
          "base_uri": "https://localhost:8080/"
        },
        "id": "V5jZ1-9gIn3T",
        "outputId": "dcfec7e7-51ce-4dee-fca1-15ac6f522a8b"
      },
      "execution_count": 32,
      "outputs": [
        {
          "output_type": "execute_result",
          "data": {
            "text/plain": [
              "array([[25., 76., 99.],\n",
              "       [39., 65., 70.],\n",
              "       [59., 45., 77.],\n",
              "       ...,\n",
              "       [99., 62., 58.],\n",
              "       [70., 71., 91.],\n",
              "       [92., 39., 76.]])"
            ]
          },
          "metadata": {},
          "execution_count": 32
        }
      ]
    }
  ]
}